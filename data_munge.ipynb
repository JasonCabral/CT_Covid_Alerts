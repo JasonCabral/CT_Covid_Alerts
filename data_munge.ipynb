{
 "cells": [
  {
   "cell_type": "code",
   "execution_count": 273,
   "metadata": {},
   "outputs": [],
   "source": [
    "import requests\n",
    "import pandas as pd\n",
    "import numpy as np\n",
    "import matplotlib.pyplot as plt\n",
    "# pip install --upgrade google-api-python-client google-auth-httplib2 google-auth-oauthlib"
   ]
  },
  {
   "cell_type": "code",
   "execution_count": 274,
   "metadata": {},
   "outputs": [],
   "source": [
    "resp = requests.get('https://data.ct.gov/resource/rf3k-f8fg.json')\n",
    "txt = resp.json()"
   ]
  },
  {
   "cell_type": "code",
   "execution_count": 275,
   "metadata": {},
   "outputs": [],
   "source": [
    "dat_orig = pd.DataFrame(txt)"
   ]
  },
  {
   "cell_type": "code",
   "execution_count": 276,
   "metadata": {},
   "outputs": [],
   "source": [
    "dat = dat_orig[dat_orig['state']=='CONNECTICUT'].copy()\n",
    "\n",
    "dat = dat[['date', 'cases', 'deaths', 'cases_age0_9']]\n",
    "\n",
    "cols = dat.columns.drop('date')\n",
    "\n",
    "dat[cols] = dat[cols].apply(pd.to_numeric, errors='coerce')\n",
    "\n",
    "dat['date'] = dat['date'].apply(pd.to_datetime)"
   ]
  },
  {
   "cell_type": "code",
   "execution_count": 277,
   "metadata": {},
   "outputs": [],
   "source": [
    "sort_dat = dat.sort_values(by=['date'], inplace=False, ascending=True).copy()"
   ]
  },
  {
   "cell_type": "code",
   "execution_count": 278,
   "metadata": {},
   "outputs": [],
   "source": [
    "sort_dat['daily_new_cases'] = sort_dat['cases'].diff()\n",
    "sort_dat['daily_new_deaths'] = sort_dat['deaths'].diff()\n",
    "sort_dat['daily_new_child_cases'] = sort_dat['cases_age0_9'].diff()"
   ]
  },
  {
   "cell_type": "code",
   "execution_count": 279,
   "metadata": {},
   "outputs": [],
   "source": [
    "sort_dat['new_cases_roll3'] = sort_dat['daily_new_cases'].rolling(3).mean().round()\n",
    "sort_dat['new_cases_roll7'] = sort_dat['daily_new_cases'].rolling(7).mean().round()\n",
    "sort_dat['new__child_cases_roll3'] = sort_dat['daily_new_child_cases'].rolling(3).mean().round()\n",
    "sort_dat['new__child_cases_roll7'] = sort_dat['daily_new_child_cases'].rolling(7).mean().round()\n",
    "sort_dat['new_deaths_roll3'] = sort_dat['daily_new_deaths'].rolling(3).mean().round()\n",
    "sort_dat['new_deaths_roll7'] = sort_dat['daily_new_deaths'].rolling(7).mean().round()"
   ]
  },
  {
   "cell_type": "code",
   "execution_count": null,
   "metadata": {},
   "outputs": [],
   "source": [
    "plt.figure(num = 20, figsize=(15, 10))\n",
    "plt.plot(sort_dat['date'], sort_dat['new_cases_roll7'])\n",
    "# plt.plot(sort_dat['date'], sort_dat['new_cases_roll3'])\n",
    "# plt.plot(sort_dat['date'], sort_dat['daily_new_cases'])\n",
    "# plt.plot(sort_dat['date'], sort_dat['new__child_cases_roll7'])\n",
    "# plt.plot(sort_dat['date'], sort_dat['new_deaths_roll7'])\n",
    "\n",
    "plt.show()"
   ]
  },
  {
   "cell_type": "code",
   "execution_count": null,
   "metadata": {},
   "outputs": [],
   "source": []
  },
  {
   "cell_type": "code",
   "execution_count": 283,
   "metadata": {},
   "outputs": [],
   "source": [
    "from __future__ import print_function\n",
    "import pickle\n",
    "import os.path\n",
    "from googleapiclient.discovery import build\n",
    "from google_auth_oauthlib.flow import InstalledAppFlow\n",
    "from google.auth.transport.requests import Request\n"
   ]
  },
  {
   "cell_type": "code",
   "execution_count": 284,
   "metadata": {},
   "outputs": [],
   "source": [
    "# If modifying these scopes, delete the file token.pickle.\n",
    "SCOPES = ['https://www.googleapis.com/auth/spreadsheets']\n",
    "\n",
    "def build_serv():\n",
    "    \"\"\"Shows basic usage of the Sheets API.\n",
    "    Prints values from a sample spreadsheet.\n",
    "    \"\"\"\n",
    "    creds = None\n",
    "    # The file token.pickle stores the user's access and refresh tokens, and is\n",
    "    # created automatically when the authorization flow completes for the first\n",
    "    # time.\n",
    "    if os.path.exists('token.pickle'):\n",
    "        with open('token.pickle', 'rb') as token:\n",
    "            creds = pickle.load(token)\n",
    "    # If there are no (valid) credentials available, let the user log in.\n",
    "    if not creds or not creds.valid:\n",
    "        if creds and creds.expired and creds.refresh_token:\n",
    "            creds.refresh(Request())\n",
    "        else:\n",
    "            flow = InstalledAppFlow.from_client_secrets_file(\n",
    "                'credentials.json', SCOPES)\n",
    "            creds = flow.run_local_server(port=0)\n",
    "        # Save the credentials for the next run\n",
    "        with open('token.pickle', 'wb') as token:\n",
    "            pickle.dump(creds, token)\n",
    "\n",
    "    service = build('sheets', 'v4', credentials=creds)\n",
    "    return(service)\n"
   ]
  },
  {
   "cell_type": "code",
   "execution_count": 285,
   "metadata": {},
   "outputs": [],
   "source": [
    "service = build_serv()"
   ]
  },
  {
   "cell_type": "code",
   "execution_count": null,
   "metadata": {},
   "outputs": [],
   "source": [
    "def read_data(service, spreadsheet, sheet_range):\n",
    "    # Call the Sheets API\n",
    "    sheet = service.spreadsheets()\n",
    "    result = sheet.values().get(spreadsheetId=spreadsheet, \n",
    "                                range=sheet_range).execute()\n",
    "    values = result.get('values', [])\n",
    "    return(values)"
   ]
  },
  {
   "cell_type": "code",
   "execution_count": 286,
   "metadata": {},
   "outputs": [],
   "source": [
    "def send_data(service, dat, date_col, spreadsheet_id, sheet_range):\n",
    "    send_dat = dat.copy()\n",
    "    send_dat[date_col] = send_dat[date_col].dt.strftime('%Y-%m-%d')\n",
    "    send_dat.fillna('', inplace=True)\n",
    "    \n",
    "    # How the input data should be interpreted.\n",
    "    value_input_option = 'USER_ENTERED'  # USER_ENTERED to mimic Sheets entry, RAW to place data as-is\n",
    "\n",
    "    # How the input data should be inserted.\n",
    "    insert_data_option = 'OVERWRITE'  # not being used at the moment, function overwrites by default\n",
    "\n",
    "    dfHeaders = send_dat.columns.values.tolist()\n",
    "    dfHeadersArray = [dfHeaders]\n",
    "    dfData = send_dat.values.tolist()\n",
    "\n",
    "    value_range_body = {\n",
    "            \"majorDimension\": \"ROWS\",\n",
    "            \"values\": dfHeadersArray + dfData\n",
    "        }\n",
    "\n",
    "    request = service.spreadsheets().values().update(spreadsheetId=spreadsheet_id, \n",
    "                                                     range=sheet_range, \n",
    "#                                                      insertDataOption=insert_data_option,\n",
    "                                                     valueInputOption=value_input_option, \n",
    "                                                     body=value_range_body)\n",
    "    response = request.execute()\n",
    "\n",
    "    return(response)\n",
    "\n",
    "\n",
    "\n"
   ]
  },
  {
   "cell_type": "code",
   "execution_count": null,
   "metadata": {},
   "outputs": [],
   "source": []
  },
  {
   "cell_type": "code",
   "execution_count": 287,
   "metadata": {},
   "outputs": [
    {
     "data": {
      "text/plain": [
       "{'spreadsheetId': '1h8PgeXtEDaHQCmsFIcqDA3Hm_kVFRrR-jcEfVPfMwAI',\n",
       " 'updatedRange': 'data!A1:M53',\n",
       " 'updatedRows': 53,\n",
       " 'updatedColumns': 13,\n",
       " 'updatedCells': 689}"
      ]
     },
     "execution_count": 287,
     "metadata": {},
     "output_type": "execute_result"
    }
   ],
   "source": [
    "# Update Google Sheet with latest data\n",
    "send_data(service, sort_dat, 'date', '1h8PgeXtEDaHQCmsFIcqDA3Hm_kVFRrR-jcEfVPfMwAI', 'data')"
   ]
  },
  {
   "cell_type": "code",
   "execution_count": null,
   "metadata": {},
   "outputs": [],
   "source": []
  },
  {
   "cell_type": "code",
   "execution_count": 260,
   "metadata": {},
   "outputs": [],
   "source": [
    "# Load alerts from Google Sheet\n",
    "def pull_alerts(service, spreadsheet_id, sheet_range):\n",
    "    alerts = read_data(service, spreadsheet_id, sheet_range)\n",
    "    alerts = pd.DataFrame(alerts)\n",
    "    new_header = alerts.iloc[0] #grab the first row for the header\n",
    "    alerts = alerts[1:] #take the data less the header row\n",
    "    alerts.columns = new_header #set the header row as the df header\n",
    "    return(alerts)"
   ]
  },
  {
   "cell_type": "code",
   "execution_count": 261,
   "metadata": {},
   "outputs": [],
   "source": [
    "alerts = pull_alerts(service, '1h8PgeXtEDaHQCmsFIcqDA3Hm_kVFRrR-jcEfVPfMwAI', 'alerts')"
   ]
  },
  {
   "cell_type": "code",
   "execution_count": 262,
   "metadata": {},
   "outputs": [
    {
     "data": {
      "text/html": [
       "<div>\n",
       "<style scoped>\n",
       "    .dataframe tbody tr th:only-of-type {\n",
       "        vertical-align: middle;\n",
       "    }\n",
       "\n",
       "    .dataframe tbody tr th {\n",
       "        vertical-align: top;\n",
       "    }\n",
       "\n",
       "    .dataframe thead th {\n",
       "        text-align: right;\n",
       "    }\n",
       "</style>\n",
       "<table border=\"1\" class=\"dataframe\">\n",
       "  <thead>\n",
       "    <tr style=\"text-align: right;\">\n",
       "      <th></th>\n",
       "      <th>phone</th>\n",
       "      <th>carrier</th>\n",
       "      <th>metric</th>\n",
       "      <th>threshold</th>\n",
       "    </tr>\n",
       "  </thead>\n",
       "  <tbody>\n",
       "    <tr>\n",
       "      <td>1</td>\n",
       "      <td>8605599390</td>\n",
       "      <td>xfinity</td>\n",
       "      <td>new_cases_roll7</td>\n",
       "      <td>150</td>\n",
       "    </tr>\n",
       "  </tbody>\n",
       "</table>\n",
       "</div>"
      ],
      "text/plain": [
       "0       phone  carrier           metric threshold\n",
       "1  8605599390  xfinity  new_cases_roll7       150"
      ]
     },
     "execution_count": 262,
     "metadata": {},
     "output_type": "execute_result"
    }
   ],
   "source": [
    "alerts"
   ]
  },
  {
   "cell_type": "code",
   "execution_count": 281,
   "metadata": {},
   "outputs": [],
   "source": [
    "latest_day = sort_dat.iloc[len(sort_dat)-1]\n",
    "# ['new_cases_roll7']"
   ]
  },
  {
   "cell_type": "code",
   "execution_count": 282,
   "metadata": {},
   "outputs": [
    {
     "name": "stdout",
     "output_type": "stream",
     "text": [
      "525.0\n"
     ]
    }
   ],
   "source": [
    "# for i in alerts:\n",
    "#     print(i)\n",
    "\n",
    "for row in alerts.itertuples():\n",
    "#     print(row.phone)\n",
    "#     print(row.Index)\n",
    "    if latest_day[row.metric] <= row.threshold:\n",
    "#         send message"
   ]
  },
  {
   "cell_type": "code",
   "execution_count": null,
   "metadata": {},
   "outputs": [],
   "source": []
  },
  {
   "cell_type": "code",
   "execution_count": null,
   "metadata": {},
   "outputs": [],
   "source": []
  }
 ],
 "metadata": {
  "kernelspec": {
   "display_name": "Python 3",
   "language": "python",
   "name": "python3"
  },
  "language_info": {
   "codemirror_mode": {
    "name": "ipython",
    "version": 3
   },
   "file_extension": ".py",
   "mimetype": "text/x-python",
   "name": "python",
   "nbconvert_exporter": "python",
   "pygments_lexer": "ipython3",
   "version": "3.7.4"
  }
 },
 "nbformat": 4,
 "nbformat_minor": 2
}
