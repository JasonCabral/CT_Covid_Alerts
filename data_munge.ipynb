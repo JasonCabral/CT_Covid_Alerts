{
 "cells": [
  {
   "cell_type": "code",
   "execution_count": 273,
   "metadata": {},
   "outputs": [],
   "source": [
    "import requests\n",
    "import pandas as pd\n",
    "import numpy as np\n",
    "import matplotlib.pyplot as plt\n",
    "# pip install --upgrade google-api-python-client google-auth-httplib2 google-auth-oauthlib"
   ]
  },
  {
   "cell_type": "code",
   "execution_count": 274,
   "metadata": {},
   "outputs": [],
   "source": [
    "resp = requests.get('https://data.ct.gov/resource/rf3k-f8fg.json')\n",
    "txt = resp.json()"
   ]
  },
  {
   "cell_type": "code",
   "execution_count": 275,
   "metadata": {},
   "outputs": [],
   "source": [
    "dat_orig = pd.DataFrame(txt)"
   ]
  },
  {
   "cell_type": "code",
   "execution_count": 276,
   "metadata": {},
   "outputs": [],
   "source": [
    "dat = dat_orig[dat_orig['state']=='CONNECTICUT'].copy()\n",
    "\n",
    "dat = dat[['date', 'cases', 'deaths', 'cases_age0_9']]\n",
    "\n",
    "cols = dat.columns.drop('date')\n",
    "\n",
    "dat[cols] = dat[cols].apply(pd.to_numeric, errors='coerce')\n",
    "\n",
    "dat['date'] = dat['date'].apply(pd.to_datetime)"
   ]
  },
  {
   "cell_type": "code",
   "execution_count": 277,
   "metadata": {},
   "outputs": [],
   "source": [
    "sort_dat = dat.sort_values(by=['date'], inplace=False, ascending=True).copy()"
   ]
  },
  {
   "cell_type": "code",
   "execution_count": 278,
   "metadata": {},
   "outputs": [],
   "source": [
    "sort_dat['daily_new_cases'] = sort_dat['cases'].diff()\n",
    "sort_dat['daily_new_deaths'] = sort_dat['deaths'].diff()\n",
    "sort_dat['daily_new_child_cases'] = sort_dat['cases_age0_9'].diff()"
   ]
  },
  {
   "cell_type": "code",
   "execution_count": 279,
   "metadata": {},
   "outputs": [],
   "source": [
    "sort_dat['new_cases_roll3'] = sort_dat['daily_new_cases'].rolling(3).mean().round()\n",
    "sort_dat['new_cases_roll7'] = sort_dat['daily_new_cases'].rolling(7).mean().round()\n",
    "sort_dat['new__child_cases_roll3'] = sort_dat['daily_new_child_cases'].rolling(3).mean().round()\n",
    "sort_dat['new__child_cases_roll7'] = sort_dat['daily_new_child_cases'].rolling(7).mean().round()\n",
    "sort_dat['new_deaths_roll3'] = sort_dat['daily_new_deaths'].rolling(3).mean().round()\n",
    "sort_dat['new_deaths_roll7'] = sort_dat['daily_new_deaths'].rolling(7).mean().round()"
   ]
  },
  {
   "cell_type": "code",
   "execution_count": null,
   "metadata": {},
   "outputs": [],
   "source": [
    "plt.figure(num = 20, figsize=(15, 10))\n",
    "plt.plot(sort_dat['date'], sort_dat['new_cases_roll7'])\n",
    "# plt.plot(sort_dat['date'], sort_dat['new_cases_roll3'])\n",
    "# plt.plot(sort_dat['date'], sort_dat['daily_new_cases'])\n",
    "# plt.plot(sort_dat['date'], sort_dat['new__child_cases_roll7'])\n",
    "# plt.plot(sort_dat['date'], sort_dat['new_deaths_roll7'])\n",
    "\n",
    "plt.show()"
   ]
  },
  {
   "cell_type": "code",
   "execution_count": null,
   "metadata": {},
   "outputs": [],
   "source": []
  },
  {
   "cell_type": "code",
   "execution_count": 283,
   "metadata": {},
   "outputs": [],
   "source": [
    "from __future__ import print_function\n",
    "import pickle\n",
    "import os.path\n",
    "from googleapiclient.discovery import build\n",
    "from google_auth_oauthlib.flow import InstalledAppFlow\n",
    "from google.auth.transport.requests import Request\n"
   ]
  },
  {
   "cell_type": "code",
   "execution_count": 376,
   "metadata": {},
   "outputs": [],
   "source": [
    "# If modifying these scopes, delete the file token.pickle.\n",
    "SCOPES = ['https://www.googleapis.com/auth/spreadsheets',\n",
    "         'https://www.googleapis.com/auth/gmail.compose',\n",
    "         'https://www.googleapis.com/auth/gmail.send']\n",
    "\n",
    "# Gmail scopes: https://developers.google.com/identity/protocols/oauth2/scopes#gmail\n",
    "# Sheets scopes: https://developers.google.com/identity/protocols/oauth2/scopes#sheets\n",
    "\n",
    "def build_serv():\n",
    "    \"\"\"Shows basic usage of the Sheets API.\n",
    "    Prints values from a sample spreadsheet.\n",
    "    \"\"\"\n",
    "    creds = None\n",
    "    # The file token.pickle stores the user's access and refresh tokens, and is\n",
    "    # created automatically when the authorization flow completes for the first\n",
    "    # time.\n",
    "    if os.path.exists('token.pickle'):\n",
    "        with open('token.pickle', 'rb') as token:\n",
    "            creds = pickle.load(token)\n",
    "    # If there are no (valid) credentials available, let the user log in.\n",
    "    if not creds or not creds.valid:\n",
    "        if creds and creds.expired and creds.refresh_token:\n",
    "            creds.refresh(Request())\n",
    "        else:\n",
    "            flow = InstalledAppFlow.from_client_secrets_file(\n",
    "                'credentials.json', SCOPES)\n",
    "            creds = flow.run_local_server(port=0)\n",
    "        # Save the credentials for the next run\n",
    "        with open('token.pickle', 'wb') as token:\n",
    "            pickle.dump(creds, token)\n",
    "\n",
    "    sheets = build('sheets', 'v4', credentials=creds)\n",
    "    mail = build('gmail', 'v1', credentials=creds)\n",
    "    service = {'sheets': sheets,\n",
    "              'mail': mail}\n",
    "    return(service)\n"
   ]
  },
  {
   "cell_type": "code",
   "execution_count": 377,
   "metadata": {},
   "outputs": [
    {
     "name": "stdout",
     "output_type": "stream",
     "text": [
      "Please visit this URL to authorize this application: https://accounts.google.com/o/oauth2/auth?response_type=code&client_id=485047975673-9tt2qa6bgrcme7olhn657o5k9svbo6vu.apps.googleusercontent.com&redirect_uri=http%3A%2F%2Flocalhost%3A63728%2F&scope=https%3A%2F%2Fwww.googleapis.com%2Fauth%2Fspreadsheets+https%3A%2F%2Fwww.googleapis.com%2Fauth%2Fgmail.compose+https%3A%2F%2Fwww.googleapis.com%2Fauth%2Fgmail.send&state=K8m3zqD4MBt5YcHNTBS6RvnfWokAgo&access_type=offline\n"
     ]
    }
   ],
   "source": [
    "service = build_serv()\n",
    "mail_service = service['mail']\n",
    "sheets_service = service['sheets']"
   ]
  },
  {
   "cell_type": "code",
   "execution_count": 381,
   "metadata": {},
   "outputs": [],
   "source": [
    "def read_data(service, spreadsheet, sheet_range):\n",
    "    # Call the Sheets API\n",
    "    sheet = service.spreadsheets()\n",
    "    result = sheet.values().get(spreadsheetId=spreadsheet, \n",
    "                                range=sheet_range).execute()\n",
    "    values = result.get('values', [])\n",
    "    return(values)"
   ]
  },
  {
   "cell_type": "code",
   "execution_count": 382,
   "metadata": {},
   "outputs": [],
   "source": [
    "def send_data(service, dat, date_col, spreadsheet_id, sheet_range):\n",
    "    send_dat = dat.copy()\n",
    "    send_dat[date_col] = send_dat[date_col].dt.strftime('%Y-%m-%d')\n",
    "    send_dat.fillna('', inplace=True)\n",
    "    \n",
    "    # How the input data should be interpreted.\n",
    "    value_input_option = 'USER_ENTERED'  # USER_ENTERED to mimic Sheets entry, RAW to place data as-is\n",
    "\n",
    "    # How the input data should be inserted.\n",
    "    insert_data_option = 'OVERWRITE'  # not being used at the moment, function overwrites by default\n",
    "\n",
    "    dfHeaders = send_dat.columns.values.tolist()\n",
    "    dfHeadersArray = [dfHeaders]\n",
    "    dfData = send_dat.values.tolist()\n",
    "\n",
    "    value_range_body = {\n",
    "            \"majorDimension\": \"ROWS\",\n",
    "            \"values\": dfHeadersArray + dfData\n",
    "        }\n",
    "\n",
    "    request = service.spreadsheets().values().update(spreadsheetId=spreadsheet_id, \n",
    "                                                     range=sheet_range, \n",
    "#                                                      insertDataOption=insert_data_option,\n",
    "                                                     valueInputOption=value_input_option, \n",
    "                                                     body=value_range_body)\n",
    "    response = request.execute()\n",
    "\n",
    "    return(response)\n",
    "\n",
    "\n",
    "\n"
   ]
  },
  {
   "cell_type": "code",
   "execution_count": null,
   "metadata": {},
   "outputs": [],
   "source": []
  },
  {
   "cell_type": "code",
   "execution_count": 383,
   "metadata": {},
   "outputs": [
    {
     "data": {
      "text/plain": [
       "{'spreadsheetId': '1h8PgeXtEDaHQCmsFIcqDA3Hm_kVFRrR-jcEfVPfMwAI',\n",
       " 'updatedRange': 'data!A1:M53',\n",
       " 'updatedRows': 53,\n",
       " 'updatedColumns': 13,\n",
       " 'updatedCells': 689}"
      ]
     },
     "execution_count": 383,
     "metadata": {},
     "output_type": "execute_result"
    }
   ],
   "source": [
    "# Update Google Sheet with latest data\n",
    "send_data(sheets_service, sort_dat, 'date', '1h8PgeXtEDaHQCmsFIcqDA3Hm_kVFRrR-jcEfVPfMwAI', 'data')"
   ]
  },
  {
   "cell_type": "code",
   "execution_count": null,
   "metadata": {},
   "outputs": [],
   "source": []
  },
  {
   "cell_type": "code",
   "execution_count": 384,
   "metadata": {},
   "outputs": [],
   "source": [
    "# Load alerts from Google Sheet\n",
    "def pull_alerts(service, spreadsheet_id, sheet_range):\n",
    "    alerts = read_data(service, spreadsheet_id, sheet_range)\n",
    "    alerts = pd.DataFrame(alerts)\n",
    "    new_header = alerts.iloc[0] #grab the first row for the header\n",
    "    alerts = alerts[1:] #take the data less the header row\n",
    "    alerts.columns = new_header #set the header row as the df header\n",
    "    return(alerts)"
   ]
  },
  {
   "cell_type": "code",
   "execution_count": 395,
   "metadata": {},
   "outputs": [],
   "source": [
    "alerts = pull_alerts(sheets_service, '1h8PgeXtEDaHQCmsFIcqDA3Hm_kVFRrR-jcEfVPfMwAI', 'alerts')"
   ]
  },
  {
   "cell_type": "code",
   "execution_count": 400,
   "metadata": {},
   "outputs": [],
   "source": [
    "# alerts"
   ]
  },
  {
   "cell_type": "code",
   "execution_count": 390,
   "metadata": {},
   "outputs": [],
   "source": [
    "latest_day = sort_dat.iloc[len(sort_dat)-1]\n",
    "\n",
    "carriers = {'verizon':'@vtext.com',\n",
    "            'xfinity':'@vtext.com', \n",
    "            'google_fi':'@msg.fi.google.com', \n",
    "            'tmobile':'@tmomail.net',\n",
    "           'virgin':'@vmobl.com', \n",
    "           'att':'@txt.att.net',\n",
    "           'sprint':'@messaging.sprintpcs.com',\n",
    "           'boost':'@sms.myboostmobile.com',\n",
    "           'metro':'@mymetropcs.com',\n",
    "           'us_cellular':'@email.uscc.net',\n",
    "           'cricket':'@mms.cricketwireless.net',\n",
    "           'republic':'@text.republicwireless.com',\n",
    "           'straight_talk':'@vtext.com'}\n",
    "\n"
   ]
  },
  {
   "cell_type": "code",
   "execution_count": 391,
   "metadata": {},
   "outputs": [],
   "source": [
    "from apiclient import errors\n",
    "from httplib2 import Http\n",
    "from email.mime.text import MIMEText\n",
    "import base64\n",
    "from google.oauth2 import service_account\n",
    "\n",
    "def create_message(sender, to, subject, message_text):\n",
    "    \"\"\"Create a message for an email.\n",
    "    Args:\n",
    "    sender: Email address of the sender.\n",
    "    to: Email address of the receiver.\n",
    "    subject: The subject of the email message.\n",
    "    message_text: The text of the email message.\n",
    "    Returns:\n",
    "    An object containing a base64url encoded email object.\n",
    "    \"\"\"\n",
    "    message = MIMEText(message_text)\n",
    "    message['to'] = to\n",
    "    message['from'] = sender\n",
    "    message['subject'] = subject\n",
    "    return {'raw': base64.urlsafe_b64encode(message.as_string().encode()).decode()}\n",
    "\n",
    "def send_message(service, user_id, message):\n",
    "    \"\"\"Send an email message.\n",
    "    Args:\n",
    "    service: Authorized Gmail API service instance.\n",
    "    user_id: User's email address. The special value \"me\"\n",
    "    can be used to indicate the authenticated user.\n",
    "    message: Message to be sent.\n",
    "    Returns:\n",
    "    Sent Message.\n",
    "    \"\"\"\n",
    "    try:\n",
    "        message = (service.users().messages().send(userId=user_id, body=message)\n",
    "                   .execute())\n",
    "        print('Message Id: %s' % message['id'])\n",
    "        return message\n",
    "    except errors.HttpError as error:\n",
    "        print('An error occurred: %s' % error)"
   ]
  },
  {
   "cell_type": "code",
   "execution_count": 295,
   "metadata": {},
   "outputs": [],
   "source": []
  },
  {
   "cell_type": "code",
   "execution_count": 399,
   "metadata": {},
   "outputs": [
    {
     "name": "stdout",
     "output_type": "stream",
     "text": [
      "Message Id: 1721ac042e6f934d\n",
      "Message Id: 1721ac0421010488\n"
     ]
    }
   ],
   "source": [
    "EMAIL_FROM = 'jcdrummr@gmail.com'\n",
    "\n",
    "for row in alerts.itertuples():\n",
    "    if latest_day[row.metric] <= float(row.threshold):\n",
    "        EMAIL_TO = row.phone + carriers[row.carrier]\n",
    "        EMAIL_SUBJECT = 'CT COVID-19 Alert System'\n",
    "        EMAIL_CONTENT = row.metric + ' is now at ' + \\\n",
    "                        str(latest_day[row.metric]) + ', below your alert threshold of ' + \\\n",
    "                        str(row.threshold)\n",
    "        # Call the Gmail API\n",
    "        message = create_message(EMAIL_FROM, EMAIL_TO, EMAIL_SUBJECT, EMAIL_CONTENT)\n",
    "        sent = send_message(mail_service,'me', message)"
   ]
  }
 ],
 "metadata": {
  "kernelspec": {
   "display_name": "Python 3",
   "language": "python",
   "name": "python3"
  },
  "language_info": {
   "codemirror_mode": {
    "name": "ipython",
    "version": 3
   },
   "file_extension": ".py",
   "mimetype": "text/x-python",
   "name": "python",
   "nbconvert_exporter": "python",
   "pygments_lexer": "ipython3",
   "version": "3.7.4"
  }
 },
 "nbformat": 4,
 "nbformat_minor": 2
}
